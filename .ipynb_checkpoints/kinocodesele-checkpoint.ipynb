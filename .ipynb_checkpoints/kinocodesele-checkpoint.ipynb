{
 "cells": [
  {
   "cell_type": "code",
   "execution_count": 1,
   "metadata": {},
   "outputs": [],
   "source": [
    "from selenium import webdriver\n",
    "import time\n",
    "import pandas as pd"
   ]
  },
  {
   "cell_type": "code",
   "execution_count": 2,
   "metadata": {},
   "outputs": [],
   "source": [
    "USER = \"test_user\"\n",
    "PASS = \"test_pw\""
   ]
  },
  {
   "cell_type": "code",
   "execution_count": 3,
   "metadata": {},
   "outputs": [],
   "source": [
    "browser = webdriver.Chrome()\n",
    "browser.implicitly_wait(3)"
   ]
  },
  {
   "cell_type": "code",
   "execution_count": 4,
   "metadata": {},
   "outputs": [
    {
     "name": "stdout",
     "output_type": "stream",
     "text": [
      "ログインページにアクセスしました\n"
     ]
    }
   ],
   "source": [
    "url_login = \"https://kino-code.com/membership-login/\"\n",
    "browser.get(url_login)\n",
    "time.sleep(3)\n",
    "print('ログインページにアクセスしました')"
   ]
  },
  {
   "cell_type": "code",
   "execution_count": 5,
   "metadata": {},
   "outputs": [
    {
     "name": "stdout",
     "output_type": "stream",
     "text": [
      "フォームを送信\n"
     ]
    }
   ],
   "source": [
    "elem = browser.find_element_by_id('swpm_user_name')\n",
    "elem.clear()\n",
    "elem.send_keys(USER)\n",
    "elem = browser.find_element_by_id('swpm_password')\n",
    "elem.clear()\n",
    "elem.send_keys(PASS)\n",
    "print(\"フォームを送信\")"
   ]
  },
  {
   "cell_type": "code",
   "execution_count": 6,
   "metadata": {},
   "outputs": [
    {
     "name": "stdout",
     "output_type": "stream",
     "text": [
      "情報を入力してログインボタンを押しました\n"
     ]
    }
   ],
   "source": [
    "browser_form = browser.find_element_by_name('swpm-login')\n",
    "time.sleep(3)\n",
    "browser_form.click()\n",
    "print(\"情報を入力してログインボタンを押しました\")"
   ]
  },
  {
   "cell_type": "code",
   "execution_count": 7,
   "metadata": {},
   "outputs": [
    {
     "name": "stdout",
     "output_type": "stream",
     "text": [
      "https://kino-code.com/member-only/ アクセス完了\n"
     ]
    }
   ],
   "source": [
    "url = \"https://kino-code.com/member-only/\"\n",
    "time.sleep(1)\n",
    "browser.get(url)\n",
    "print(url, 'アクセス完了')"
   ]
  },
  {
   "cell_type": "code",
   "execution_count": 8,
   "metadata": {},
   "outputs": [
    {
     "name": "stdout",
     "output_type": "stream",
     "text": [
      "ダウンロードボタンをクリック\n"
     ]
    }
   ],
   "source": [
    "frm = browser.find_element_by_xpath('/html/body/div[1]/div[3]/div/main/article/div/p[2]/button')\n",
    "time.sleep(1)\n",
    "frm.click()\n",
    "print('ダウンロードボタンをクリック')"
   ]
  },
  {
   "cell_type": "code",
   "execution_count": null,
   "metadata": {},
   "outputs": [],
   "source": []
  }
 ],
 "metadata": {
  "kernelspec": {
   "display_name": "Python 3",
   "language": "python",
   "name": "python3"
  },
  "language_info": {
   "codemirror_mode": {
    "name": "ipython",
    "version": 3
   },
   "file_extension": ".py",
   "mimetype": "text/x-python",
   "name": "python",
   "nbconvert_exporter": "python",
   "pygments_lexer": "ipython3",
   "version": "3.7.6"
  }
 },
 "nbformat": 4,
 "nbformat_minor": 4
}
