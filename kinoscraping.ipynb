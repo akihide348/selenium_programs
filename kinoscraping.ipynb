{
 "cells": [
  {
   "cell_type": "code",
   "execution_count": 11,
   "metadata": {},
   "outputs": [],
   "source": [
    "from bs4 import BeautifulSoup\n",
    "import urllib.request as req\n",
    "import pandas as pd"
   ]
  },
  {
   "cell_type": "code",
   "execution_count": 12,
   "metadata": {},
   "outputs": [],
   "source": [
    "url = \"https://b.hatena.ne.jp/hotentry/it\"\n",
    "res = req.urlopen(url)\n",
    "sp = BeautifulSoup(res, 'html.parser')"
   ]
  },
  {
   "cell_type": "code",
   "execution_count": 13,
   "metadata": {},
   "outputs": [
    {
     "data": {
      "text/plain": [
       "['イーロン・マスク「頭のFitbit」こと脳埋込みAIチップ「Link」...',\n",
       " 'Windows 10ユーザーの9割近くが更新せずに古いビルドを使い続け...',\n",
       " 'Playストアからの削除警告について - Subway Tooter blog',\n",
       " 'Googleからの理不尽な主張によってMastodon向けクライアントが...',\n",
       " 'Flutterでそこそこ規模の大きいプロダクションアプリを作ったの...',\n",
       " 'コロナで大打撃を受けた宿泊業のエンジニアの逆境との闘い',\n",
       " 'SNSから本性バレた\\u3000知能や性格、AI実験に懸念も\\u3000\\u3000:日本経済新聞',\n",
       " '効果検証入門から見直す 「データサイエンス」 - Speaker Deck',\n",
       " '[AWS GameDay] DevOpsエンジニアが全員退職した会社で新入社員...',\n",
       " 'PyCon JP 2020のTwitter実況システムをGKE上に作った話 - JX通...',\n",
       " 'NumPy/pandas使いのためのテスト自動化入門 / PyConJP2020 - Sp...',\n",
       " 'Ubuntu←こいつがOSの天下取れなかった理由ｗｗｗｗｗｗ : PCパ...',\n",
       " 'Androidのセキュリティバグで悪質なアプリがユーザーの個人情報...',\n",
       " 'FacebookザッカーバーグCEO、アップルが「革新や競争を阻害」と...',\n",
       " 'これも動く、風変わりなOS〜Raspberry Pi で動く様々なOS一覧ま...',\n",
       " '実現されつつあった「量子コンピュータ」は、放射線によって機...',\n",
       " '有線LANやKVM機能を備えた27型液晶「FlexScan EV2795」が発売 -...',\n",
       " 'スマートホームハブ徹底比較（Node-red、Home Assistant、OpenH...',\n",
       " 'Starship: Cross-Shell Prompt',\n",
       " '最新Chromeはタブのグループ化、QRコード生成に加えてパフォー...',\n",
       " 'Google大学が教育業界をぶっこわす！！その費用とコース内容は...',\n",
       " 'サマーインターン生がアクセシビリティの改善に取り組んだお話 ...',\n",
       " 'GitHub - beefsack/webify: Turn shell commands into web serv...',\n",
       " 'Apple、EpicのApp Storeアカウントを停止（Unreal Engineは無事...',\n",
       " '⚛️ 🚀 React Component Patterns - DEV',\n",
       " 'GitHub - arwes/arwes: Futuristic Sci-Fi and Cyberpunk Graph...',\n",
       " 'Objective-Rust // -dealloc',\n",
       " 'Asynchronous HTMLRewriter for Cloudflare Workers',\n",
       " '#ginzarails にRuby on CIで発表した - くりにっき',\n",
       " '長体日記 - hitode909の日記',\n",
       " '【山田祥平のRe:config.sys】Windows 95から25年 ～そして何が...',\n",
       " 'XMLサイトマップでは正規URLだけを送信する | SEO検索エンジン...',\n",
       " 'ASCII.jp：純正品しか使わなかった筆者が、ロジクールのmacOS向...',\n",
       " '動画の無音シーンを自動でカットしてくれるMac用アプリ「VSSR」...',\n",
       " 'BERTを利用した日本語文書要約をやってみた - Retrieva TECH BLOG',\n",
       " 'Apple、EpicのApp Storeアカウントを抹消。Unreal Engineには影...',\n",
       " 'イーロン・マスク氏が脳インターフェイスNeuralinkの技術をライ...',\n",
       " '物書きが使うVS Code\\u3000〜画面構成〜 – R-style',\n",
       " '【やじうまミニレビュー】本体にディスプレイを搭載、電池残量...',\n",
       " '純粋培養GraphQL / Pure GraphQL Architecture - Speaker Deck',\n",
       " 'Security-JAWS 第18回レポート #secjaws #secjaws18 #jawsug | ...',\n",
       " 'コロナで大打撃を受けた宿泊業のエンジニアの逆境との闘い',\n",
       " 'Amazonがフィットネス用リストバンド「Halo」を発表、アプリと...',\n",
       " 'GitHub - xxczaki/light-date: ⏰ Blazing fast & lightweight ...',\n",
       " '野球ではじめる機械学習 - 特徴量エンジニアリングとPython, R...',\n",
       " '[AWS IoT] 既存の証明書だけでMQTT以外の各種AWSリソ−スにアク...',\n",
       " 'Windows 10の最新バグでSSDが死ぬかも | Ubergizmo JAPAN',\n",
       " 'Apple、Epic Gamesの開発者アカウントを予告どおり削除。『フォ...',\n",
       " 'Windowsユーザーに贈るLinux超入門(55) インストール済みのLinu...',\n",
       " None,\n",
       " None,\n",
       " None,\n",
       " None,\n",
       " None,\n",
       " None,\n",
       " None,\n",
       " None,\n",
       " None,\n",
       " None,\n",
       " None,\n",
       " None,\n",
       " None,\n",
       " None,\n",
       " None,\n",
       " None,\n",
       " None,\n",
       " None]"
      ]
     },
     "execution_count": 13,
     "metadata": {},
     "output_type": "execute_result"
    }
   ],
   "source": [
    "list =[]\n",
    "url_list = []\n",
    "oo=sp.find_all('a', class_='js-keyboard-openable',rel='noopener')\n",
    "for i in oo:\n",
    "    list.append(i.string)\n",
    "    url_list.append(i.attrs['href'])\n",
    "list"
   ]
  },
  {
   "cell_type": "code",
   "execution_count": 8,
   "metadata": {},
   "outputs": [
    {
     "data": {
      "text/html": [
       "<div>\n",
       "<style scoped>\n",
       "    .dataframe tbody tr th:only-of-type {\n",
       "        vertical-align: middle;\n",
       "    }\n",
       "\n",
       "    .dataframe tbody tr th {\n",
       "        vertical-align: top;\n",
       "    }\n",
       "\n",
       "    .dataframe thead th {\n",
       "        text-align: right;\n",
       "    }\n",
       "</style>\n",
       "<table border=\"1\" class=\"dataframe\">\n",
       "  <thead>\n",
       "    <tr style=\"text-align: right;\">\n",
       "      <th></th>\n",
       "      <th>Title</th>\n",
       "      <th>URL</th>\n",
       "    </tr>\n",
       "  </thead>\n",
       "  <tbody>\n",
       "    <tr>\n",
       "      <th>0</th>\n",
       "      <td>イーロン・マスク「頭のFitbit」こと脳埋込みAIチップ「Link」...</td>\n",
       "      <td>https://japanese.engadget.com/elon-musk-v2-lin...</td>\n",
       "    </tr>\n",
       "    <tr>\n",
       "      <th>1</th>\n",
       "      <td>Windows 10ユーザーの9割近くが更新せずに古いビルドを使い続け...</td>\n",
       "      <td>https://gigazine.net/news/20200829-windows-10-...</td>\n",
       "    </tr>\n",
       "    <tr>\n",
       "      <th>2</th>\n",
       "      <td>Playストアからの削除警告について - Subway Tooter blog</td>\n",
       "      <td>http://subwaytooter.hatenadiary.jp/entry/2020/...</td>\n",
       "    </tr>\n",
       "    <tr>\n",
       "      <th>3</th>\n",
       "      <td>Googleからの理不尽な主張によってMastodon向けクライアントが...</td>\n",
       "      <td>https://anond.hatelabo.jp/20200829191330</td>\n",
       "    </tr>\n",
       "    <tr>\n",
       "      <th>4</th>\n",
       "      <td>SNSから本性バレた　知能や性格、AI実験に懸念も　　:日本経済新聞</td>\n",
       "      <td>https://www.nikkei.com/article/DGXMZO63169460Y...</td>\n",
       "    </tr>\n",
       "    <tr>\n",
       "      <th>...</th>\n",
       "      <td>...</td>\n",
       "      <td>...</td>\n",
       "    </tr>\n",
       "    <tr>\n",
       "      <th>62</th>\n",
       "      <td>None</td>\n",
       "      <td>https://forest.watch.impress.co.jp/docs/news/1...</td>\n",
       "    </tr>\n",
       "    <tr>\n",
       "      <th>63</th>\n",
       "      <td>None</td>\n",
       "      <td>https://shinyorke.hatenablog.com/entry/basebal...</td>\n",
       "    </tr>\n",
       "    <tr>\n",
       "      <th>64</th>\n",
       "      <td>None</td>\n",
       "      <td>https://dev.classmethod.jp/articles/aws-gameda...</td>\n",
       "    </tr>\n",
       "    <tr>\n",
       "      <th>65</th>\n",
       "      <td>None</td>\n",
       "      <td>https://japanese.engadget.com/fortnite-pubg-03...</td>\n",
       "    </tr>\n",
       "    <tr>\n",
       "      <th>66</th>\n",
       "      <td>None</td>\n",
       "      <td>https://www.slideshare.net/mobile/ssuser91c7c7...</td>\n",
       "    </tr>\n",
       "  </tbody>\n",
       "</table>\n",
       "<p>67 rows × 2 columns</p>\n",
       "</div>"
      ],
      "text/plain": [
       "                                      Title  \\\n",
       "0    イーロン・マスク「頭のFitbit」こと脳埋込みAIチップ「Link」...   \n",
       "1    Windows 10ユーザーの9割近くが更新せずに古いビルドを使い続け...   \n",
       "2   Playストアからの削除警告について - Subway Tooter blog   \n",
       "3   Googleからの理不尽な主張によってMastodon向けクライアントが...   \n",
       "4        SNSから本性バレた　知能や性格、AI実験に懸念も　　:日本経済新聞   \n",
       "..                                      ...   \n",
       "62                                     None   \n",
       "63                                     None   \n",
       "64                                     None   \n",
       "65                                     None   \n",
       "66                                     None   \n",
       "\n",
       "                                                  URL  \n",
       "0   https://japanese.engadget.com/elon-musk-v2-lin...  \n",
       "1   https://gigazine.net/news/20200829-windows-10-...  \n",
       "2   http://subwaytooter.hatenadiary.jp/entry/2020/...  \n",
       "3            https://anond.hatelabo.jp/20200829191330  \n",
       "4   https://www.nikkei.com/article/DGXMZO63169460Y...  \n",
       "..                                                ...  \n",
       "62  https://forest.watch.impress.co.jp/docs/news/1...  \n",
       "63  https://shinyorke.hatenablog.com/entry/basebal...  \n",
       "64  https://dev.classmethod.jp/articles/aws-gameda...  \n",
       "65  https://japanese.engadget.com/fortnite-pubg-03...  \n",
       "66  https://www.slideshare.net/mobile/ssuser91c7c7...  \n",
       "\n",
       "[67 rows x 2 columns]"
      ]
     },
     "execution_count": 8,
     "metadata": {},
     "output_type": "execute_result"
    }
   ],
   "source": [
    "df_title_url = pd.DataFrame({'Title':list, 'URL':url_list})\n",
    "df_title_url"
   ]
  },
  {
   "cell_type": "raw",
   "metadata": {},
   "source": [
    "df_notnull = df_title_url.dropna(how='any')\n",
    "df_notnull"
   ]
  },
  {
   "cell_type": "code",
   "execution_count": 10,
   "metadata": {},
   "outputs": [
    {
     "ename": "NameError",
     "evalue": "name 'df_notnull' is not defined",
     "output_type": "error",
     "traceback": [
      "\u001b[0;31m---------------------------------------------------------------------------\u001b[0m",
      "\u001b[0;31mNameError\u001b[0m                                 Traceback (most recent call last)",
      "\u001b[0;32m<ipython-input-10-90fa07a04131>\u001b[0m in \u001b[0;36m<module>\u001b[0;34m\u001b[0m\n\u001b[0;32m----> 1\u001b[0;31m \u001b[0mdf_notnull\u001b[0m\u001b[0;34m.\u001b[0m\u001b[0mto_csv\u001b[0m\u001b[0;34m(\u001b[0m\u001b[0;34m'hateburo2.csv'\u001b[0m\u001b[0;34m,\u001b[0m \u001b[0mencoding\u001b[0m\u001b[0;34m=\u001b[0m\u001b[0;34m'utf-8'\u001b[0m\u001b[0;34m)\u001b[0m\u001b[0;34m\u001b[0m\u001b[0;34m\u001b[0m\u001b[0m\n\u001b[0m",
      "\u001b[0;31mNameError\u001b[0m: name 'df_notnull' is not defined"
     ]
    }
   ],
   "source": [
    "df_notnull.to_csv('hateburo2.csv', encoding='utf-8')"
   ]
  },
  {
   "cell_type": "code",
   "execution_count": null,
   "metadata": {},
   "outputs": [],
   "source": []
  },
  {
   "cell_type": "code",
   "execution_count": null,
   "metadata": {},
   "outputs": [],
   "source": []
  },
  {
   "cell_type": "code",
   "execution_count": null,
   "metadata": {},
   "outputs": [],
   "source": []
  }
 ],
 "metadata": {
  "kernelspec": {
   "display_name": "Python 3",
   "language": "python",
   "name": "python3"
  },
  "language_info": {
   "codemirror_mode": {
    "name": "ipython",
    "version": 3
   },
   "file_extension": ".py",
   "mimetype": "text/x-python",
   "name": "python",
   "nbconvert_exporter": "python",
   "pygments_lexer": "ipython3",
   "version": "3.7.6"
  }
 },
 "nbformat": 4,
 "nbformat_minor": 4
}
